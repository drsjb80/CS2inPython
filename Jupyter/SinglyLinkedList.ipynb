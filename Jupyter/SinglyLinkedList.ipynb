{
 "cells": [
  {
   "cell_type": "markdown",
   "metadata": {
    "deletable": true,
    "editable": true
   },
   "source": [
    "## Assignment 1 - Singly Linked List\n",
    "\n",
    "Complete the following singly-linked list implementation.\n",
    "\n",
    "Our implementation will have both a front and back (or head and tail) reference.\n",
    "![A singly-linked list with the head reference pointing to the first node and the tail reference pointing to the last node](https://wiki.cs.auckland.ac.nz/compsci105ss/images/8/8c/Tail-linked-list.PNG)\n",
    "\n",
    "Below is the <code>linked_list</code> class definition with the inner class definition for the <code>node</code> class. \n",
    "\n",
    "The only method necessary for the <code>node</code> class is the <code>\\__init\\__</code> method. Note that the node class doesn't get getters or setters as they are not needed.\n",
    "\n",
    "\n",
    "### Homework\n",
    "For this assignment, there are 4 functions which you _must_ write to finish the implementation of the <code>linked_list</code> class. They are noted in the code with the following numbers:\n",
    "\n",
    "1. Implement the <code>push_back</code> method - it should add a node to the end of the list\n",
    "\n",
    "2. Implement the <code>pop_front</code> method - it should remove a node from the beginning of the list\n",
    "\n",
    "3. Implement the <code>pop_back</code> method - it should remove a node from the end of the list\n",
    "\n",
    "See the Notes section at the very bottom for some helpful links explaining <code>\\__init\\__, \\__iter\\__, \\__next\\__, \\__str\\__, and \\__repr\\__</code>."
   ]
  },
  {
   "cell_type": "code",
   "execution_count": 6,
   "metadata": {
    "collapsed": true,
    "deletable": true,
    "editable": true
   },
   "outputs": [],
   "source": [
    "from __future__ import print_function\n",
    "import unittest\n",
    "\n",
    "def run_unittest(c):\n",
    "    suite = unittest.TestLoader().loadTestsFromTestCase(c)\n",
    "    unittest.TextTestRunner().run(suite)\n",
    "    \n",
    "class linked_list:\n",
    "    class node:\n",
    "        def __init__ (self, value, next):\n",
    "            self.value = value\n",
    "            self.next = next\n",
    "            \n",
    "    def __init__(self, initial = None):\n",
    "        self.front = self.back = None\n",
    "        \n",
    "    def empty(self):\n",
    "        return self.front == self.back == None\n",
    "    \n",
    "    def __iter__(self):\n",
    "        self.current = self.front\n",
    "        return self\n",
    "\n",
    "    def __next__(self):\n",
    "        if self.current:\n",
    "            tmp = self.current.value\n",
    "            self.current = self.current.next\n",
    "            return tmp\n",
    "        else:\n",
    "            raise StopIteration()\n",
    "    \n",
    "    def push_front(self, value):\n",
    "        new = self.node(value, self.front)\n",
    "        if self.empty():\n",
    "            self.front = self.back = new\n",
    "        else:\n",
    "            self.front = new"
   ]
  },
  {
   "cell_type": "markdown",
   "metadata": {
    "deletable": true,
    "editable": true
   },
   "source": [
    "## Congratulations!\n",
    "\n",
    "You implemented all of the required methods for the <code>linked_list</code> class. \n",
    "\n",
    "If you have not yet implemented the required methods, these tests should all fail.\n",
    "\n",
    "Your finished class should be able to pass all of the following unit tests.\n",
    "\n",
    "The tests are run at the end, keep reading to see!"
   ]
  },
  {
   "cell_type": "markdown",
   "metadata": {},
   "source": [
    "# C-level work"
   ]
  },
  {
   "cell_type": "code",
   "execution_count": 8,
   "metadata": {
    "collapsed": false,
    "deletable": true,
    "editable": true
   },
   "outputs": [
    {
     "name": "stderr",
     "output_type": "stream",
     "text": [
      ".\n",
      "----------------------------------------------------------------------\n",
      "Ran 1 test in 0.002s\n",
      "\n",
      "OK\n"
     ]
    }
   ],
   "source": [
    "class test_empty (unittest.TestCase):\n",
    "    def test(self):\n",
    "        self.assertTrue(linked_list().empty())\n",
    "\n",
    "run_unittest(test_empty)"
   ]
  },
  {
   "cell_type": "markdown",
   "metadata": {},
   "source": [
    "Now it's your turn to implement a method. Here's a test for you so you can use TDD. You'll need to go back to the first code cell and add a pop_back method."
   ]
  },
  {
   "cell_type": "code",
   "execution_count": null,
   "metadata": {
    "collapsed": true
   },
   "outputs": [],
   "source": [
    "class test_push_front_pop_back:\n",
    "    def test(self):\n",
    "        ll = linked_list()\n",
    "        ll.push_front(1)\n",
    "        ll.push_front(2)\n",
    "        ll.push_front(3)\n",
    "        self.assertFalse(ll.empty())\n",
    "        self.assertEqual(ll.pop_back(), 1)\n",
    "        self.assertEqual(ll.pop_back(), 2)\n",
    "        self.assertEqual(ll.pop_back(), 3)\n",
    "        self.assertTrue(ll.empty())\n",
    "\n",
    "run_unittest(test_push_front_pop_back)"
   ]
  },
  {
   "cell_type": "markdown",
   "metadata": {},
   "source": [
    "Next up is pop_front."
   ]
  },
  {
   "cell_type": "code",
   "execution_count": null,
   "metadata": {
    "collapsed": true
   },
   "outputs": [],
   "source": [
    "class test_push_front_pop_front:\n",
    "    def test(self):\n",
    "        ll = linked_list()\n",
    "        ll.push_front(1)\n",
    "        ll.push_front(2)\n",
    "        ll.push_front(3)\n",
    "        self.assertEqual(ll.pop_front(), 3)\n",
    "        self.assertEqual(ll.pop_front(), 2)\n",
    "        self.assertEqual(ll.pop_front(), 1)\n",
    "        self.assertTrue(ll.empty())\n",
    "        \n",
    "run_unittest(test_push_front_pop_back)"
   ]
  },
  {
   "cell_type": "markdown",
   "metadata": {},
   "source": [
    "And now push_back."
   ]
  },
  {
   "cell_type": "code",
   "execution_count": null,
   "metadata": {
    "collapsed": true
   },
   "outputs": [],
   "source": [
    "class test_push_back_pop_front:\n",
    "    def test(self):\n",
    "        ll = linked_list()\n",
    "        ll.push_back(1)\n",
    "        ll.push_back(2)\n",
    "        ll.push_back(3)\n",
    "        self.assertFalse(ll.empty())\n",
    "        self.assertEqual(ll.pop_front(), 1)\n",
    "        self.assertEqual(ll.pop_front(), 2)\n",
    "        self.assertEqual(ll.pop_front(), 3)\n",
    "        self.assertTrue(ll.empty())\n",
    "    \n",
    "run_unittest(test_push_front_pop_back)"
   ]
  },
  {
   "cell_type": "markdown",
   "metadata": {},
   "source": [
    "The next one is the tricky one as one has to traverse until one before the end of the list."
   ]
  },
  {
   "cell_type": "code",
   "execution_count": null,
   "metadata": {
    "collapsed": true
   },
   "outputs": [],
   "source": [
    "class test_push_back_pop_back:\n",
    "    def (self):\n",
    "        ll = linked_list()\n",
    "        ll.push_back(1)\n",
    "        ll.push_back(\"foo\")\n",
    "        ll.push_back([3,2,1])\n",
    "        self.assertFalse(ll.empty())\n",
    "        self.assertEqual(ll.pop_back(), [3,2,1])\n",
    "        self.assertEqual(ll.pop_back(), \"foo\")\n",
    "        self.assertEqual(ll.pop_back(), 1)\n",
    "        self.assertTrue(ll.empty())\n",
    "        \n",
    "run_unittest(test_push_back_pop_back)"
   ]
  },
  {
   "cell_type": "markdown",
   "metadata": {},
   "source": [
    "# B-level work\n",
    "\n",
    "Add the ability to pass in a Python iterable object to the constructor and use those objects to initialize the list. Here's one test, write several more.\n"
   ]
  },
  {
   "cell_type": "code",
   "execution_count": null,
   "metadata": {
    "collapsed": true
   },
   "outputs": [],
   "source": [
    "class test_initialization:\n",
    "    def(self):\n",
    "        ll = linked_list((\"one\", 2, 3.141592))\n",
    "        self.assertEqual(ll.pop_back(), \"one\")\n",
    "        self.assertEqual(ll.pop_back(), \"2\")\n",
    "        self.assertEqual(ll.pop_back(), \"3.141592\")\n",
    "\n",
    "run_unittest(test_initialization)"
   ]
  },
  {
   "cell_type": "markdown",
   "metadata": {},
   "source": [
    "# A-level work\n",
    "Create a generator for the linked_list class, and include Python 2 iterator compatibility. Using the generate, create a \\__str\\__ method that is a string representation of the object after having added several more tests below for TDD (e.g.: what should be return on an empty list?)."
   ]
  },
  {
   "cell_type": "code",
   "execution_count": null,
   "metadata": {
    "collapsed": true
   },
   "outputs": [],
   "source": [
    "class test_str:\n",
    "    def(self):\n",
    "        ll = linked_list((1,2,3))\n",
    "        self.assertEqual(ll.__str__(), '1,2,3')\n",
    "        \n",
    "run_unittest(test_str)"
   ]
  },
  {
   "cell_type": "markdown",
   "metadata": {},
   "source": [
    "Now, implement \\__repr\\__ using your generator that is used to create a clone of a given object."
   ]
  },
  {
   "cell_type": "code",
   "execution_count": null,
   "metadata": {
    "collapsed": true
   },
   "outputs": [],
   "source": [
    "class test_repr:\n",
    "    def(self):\n",
    "        ll = linked_list((1,2,3))\n",
    "        self.assertEqual(ll.__repr__(), 'linked_list((1,2,3'))\n",
    "        \n",
    "run_unittest(test_repr)"
   ]
  },
  {
   "cell_type": "markdown",
   "metadata": {},
   "source": [
    "Now, add functionality that raises an error when illegal operations are performed. Here are two tests to get you going, but you need to write more."
   ]
  },
  {
   "cell_type": "code",
   "execution_count": null,
   "metadata": {
    "collapsed": false,
    "deletable": true,
    "editable": true
   },
   "outputs": [],
   "source": [
    "class test_errors (unittest.TestCase):\n",
    "    def test_pop_front_empty(self):\n",
    "        self.assertRaises(RuntimeError, lambda: linked_list().pop_front())\n",
    "    def test_pop_back_empty(self):\n",
    "        self.assertRaises(RuntimeError, lambda: linked_list().pop_back())\n",
    "\n",
    "run_unittest(test_errors)"
   ]
  },
  {
   "cell_type": "markdown",
   "metadata": {
    "deletable": true,
    "editable": true
   },
   "source": [
    "Below there is a function, <code>fact</code> which uses our <code>linked_list</code> class to calculate $n!$ for $n > 0$."
   ]
  },
  {
   "cell_type": "code",
   "execution_count": 9,
   "metadata": {
    "collapsed": true,
    "deletable": true,
    "editable": true
   },
   "outputs": [],
   "source": [
    "def fact(a):\n",
    "    '''\"Pretend\" to do recursion via a stack and iteration'''\n",
    "\n",
    "    if a < 0: raise ValueError(\"Less than zero\")\n",
    "    if a == 0 or a == 1: return 1\n",
    "\n",
    "    stack = linked_list()\n",
    "    while a > 1:\n",
    "        stack.push_front(a)\n",
    "        a -= 1\n",
    "\n",
    "    result = 1\n",
    "    while not stack.empty():\n",
    "        result *= stack.pop_front()\n",
    "\n",
    "    return result"
   ]
  },
  {
   "cell_type": "markdown",
   "metadata": {
    "deletable": true,
    "editable": true
   },
   "source": [
    "Here are some unit tests for <code>factorial</code> which should all pass (once the <code>linked_list</code> class is implemented) as well."
   ]
  },
  {
   "cell_type": "code",
   "execution_count": null,
   "metadata": {
    "collapsed": true,
    "deletable": true,
    "editable": true
   },
   "outputs": [],
   "source": [
    "import unittest\n",
    "class test_factorial (unittest.TestCase):\n",
    "    def test_less_than_zero(self):\n",
    "        self.assertRaises(ValueError, lambda: fact(-1))\n",
    "    def test_zero(self):\n",
    "        self.assertEqual(fact(0), 1)\n",
    "    def test_one(self):\n",
    "        self.assertEqual(fact(1), 1)\n",
    "    def test_two(self):\n",
    "        self.assertEqual(fact(2), 2)\n",
    "    def test_10(self):\n",
    "        self.assertEqual(fact(10), 10*9*8*7*6*5*4*3*2*1)\n",
    "        \n",
    "run_unittest(test_factorial)"
   ]
  },
  {
   "cell_type": "markdown",
   "metadata": {},
   "source": [
    "For extra credit, find the middle element of the list using only a single traversal."
   ]
  },
  {
   "cell_type": "markdown",
   "metadata": {
    "deletable": true,
    "editable": true
   },
   "source": [
    "### Notes:\n",
    "\n",
    "1. #### \\_\\_init\\_\\_\n",
    "See 9.3.2 Class Objects in [The Python Tutorial - Classes](https://docs.python.org/3/tutorial/classes.html) for an explanation of the <code>\\__init\\__</code> method present in both classes.\n",
    "\n",
    "2. #### \\_\\_iter\\_\\_ and next and \\_\\_next\\_\\_\n",
    "See 9.8 Iterators in [The Python Tutorial - Classes](https://docs.python.org/3/tutorial/classes.html) for an explanation of the <code>\\__iter\\__</code> and <code>next</code> and <code>\\__next\\__</code> methods.\n",
    "\n",
    "3. #### \\_\\_str\\_\\_ and \\_\\_repr\\_\\_\n",
    "See 3.3 Special method names in [The Python Language Reference - Data model](https://docs.python.org/3/reference/datamodel.html) for documentation on the <code>\\__str\\__</code> and <code>\\__repr\\__</code> special methods\n",
    "\n",
    "\n",
    "#### References:\n",
    "Image of singly-linked list with head and tail borrowed from:\n",
    "https://wiki.cs.auckland.ac.nz/compsci105ss/index.php/Linked_Lists"
   ]
  }
 ],
 "metadata": {
  "celltoolbar": "Raw Cell Format",
  "kernelspec": {
   "display_name": "Python 3",
   "language": "python",
   "name": "python3"
  },
  "language_info": {
   "codemirror_mode": {
    "name": "ipython",
    "version": 3
   },
   "file_extension": ".py",
   "mimetype": "text/x-python",
   "name": "python",
   "nbconvert_exporter": "python",
   "pygments_lexer": "ipython3",
   "version": "3.6.0"
  }
 },
 "nbformat": 4,
 "nbformat_minor": 2
}
