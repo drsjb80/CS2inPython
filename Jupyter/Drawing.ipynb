{
 "cells": [
  {
   "cell_type": "code",
   "execution_count": 81,
   "metadata": {
    "collapsed": false
   },
   "outputs": [
    {
     "data": {
      "image/png": "[encoded data removed]",
      "text/plain": [
       "<matplotlib.figure.Figure at 0x106146da0>"
      ]
     },
     "metadata": {},
     "output_type": "display_data"
    }
   ],
   "source": [
    "%matplotlib inline\n",
    "\n",
    "import matplotlib.pyplot as plt\n",
    "import matplotlib.patches as patches\n",
    "\n",
    "plt.axis('off')\n",
    "axes = plt.gca()    # get current axes\n",
    "axes.set_xlim(0,10)\n",
    "axes.set_ylim(0,2)\n",
    "axes.set_aspect('equal')\n",
    "\n",
    "# add a rectangle and center the text in it\n",
    "def add_rectangle_and_text(p1, p2, text):\n",
    "    x1, y1 = p1\n",
    "    x2, y2 = p2\n",
    "    axes.add_patch(patches.Rectangle((x1, y1),\n",
    "        x2-x1, y2-y1, fill=None))\n",
    "    axes.text((x1+x2)/2, (y1+y2)/2, text, ha='center', va='center')\n",
    "\n",
    "add_rectangle_and_text ((0, .5), (1.0, 1.5), 'foo')\n",
    "add_rectangle_and_text ((3, .5), (4.0, 1.5), 'bar')\n",
    "\n",
    "axes.arrow(1.0, 1.0, 2.0, 0, head_width=.25, length_includes_head=True)\n",
    "\n",
    "plt.show()"
   ]
  },
  {
   "cell_type": "code",
   "execution_count": null,
   "metadata": {
    "collapsed": true
   },
   "outputs": [],
   "source": []
  }
 ],
 "metadata": {
  "kernelspec": {
   "display_name": "Python 3",
   "language": "python",
   "name": "python3"
  },
  "language_info": {
   "codemirror_mode": {
    "name": "ipython",
    "version": 3
   },
   "file_extension": ".py",
   "mimetype": "text/x-python",
   "name": "python",
   "nbconvert_exporter": "python",
   "pygments_lexer": "ipython3",
   "version": "3.6.0"
  }
 },
 "nbformat": 4,
 "nbformat_minor": 2
}
