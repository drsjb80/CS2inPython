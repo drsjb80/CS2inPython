{
 "cells": [
  {
   "cell_type": "markdown",
   "metadata": {
    "deletable": true,
    "editable": true
   },
   "source": [
    "## Assignment 1 - Singly Linked List\n",
    "\n",
    "Complete the following singly-linked list implementation.\n",
    "\n",
    "Our implementation will have both a front and back (or head and tail) reference.\n",
    "![A singly-linked list with the head reference pointing to the first node and the tail reference pointing to the last node](https://wiki.cs.auckland.ac.nz/compsci105ss/images/8/8c/Tail-linked-list.PNG)\n",
    "\n",
    "Below is the start of the program with the inner class definition for the <code>node</code> class. The only method included is the <code>\\__init\\__</code> method for the <code>node</code> class.\n",
    "\n",
    "See 9.3.2 Class Objects in [The Python Tutorial - Classes](https://docs.python.org/3/tutorial/classes.html) for an explanation of the <code>\\__init\\__</code> method"
   ]
  },
  {
   "cell_type": "code",
   "execution_count": 131,
   "metadata": {
    "collapsed": false,
    "deletable": true,
    "editable": true
   },
   "outputs": [],
   "source": [
    "from __future__ import print_function\n",
    "\n",
    "class linked_list:\n",
    "    class node:\n",
    "        def __init__ (self, value, next):\n",
    "            self.value = value\n",
    "            self.next = next\n",
    "        \n",
    "    def __init__(self, initial = None):\n",
    "        # for extra credit, add in the elements of initial here\n",
    "        self.front = self.back = None\n",
    "    \n",
    "    def empty(self):\n",
    "        return self.front == None and self.back == None\n",
    "\n",
    "    def push_front(self, value):\n",
    "        new = node(value, self.front)\n",
    "        if self.empty():\n",
    "            self.front = self.back = new\n",
    "        else:\n",
    "            self.front = new\n",
    "        return\n",
    "\n",
    "    def pop_front(self):\n",
    "        ret = self.front.value\n",
    "        self.front = self.front.next\n",
    "        if self.front == None:\n",
    "            self.back = None\n",
    "        return ret"
   ]
  },
  {
   "cell_type": "markdown",
   "metadata": {
    "deletable": true,
    "editable": true
   },
   "source": [
    "Note that the node class doesn't get getters or setters as they are not needed.\n",
    "\n",
    "The next method defined is the <code>\\__init\\__</code> method for the <code>linked_list</code>.\n",
    "\n",
    "For extra credit, add in the elements of initial."
   ]
  },
  {
   "cell_type": "code",
   "execution_count": 129,
   "metadata": {
    "collapsed": false,
    "deletable": true,
    "editable": true
   },
   "outputs": [],
   "source": []
  },
  {
   "cell_type": "markdown",
   "metadata": {
    "deletable": true,
    "editable": true
   },
   "source": [
    "Implement the <code>empty</code> method for the <code>linked_list</code>.\n",
    "\n",
    "<code>empty</code> should return true if the list is empty and false otherwise."
   ]
  },
  {
   "cell_type": "code",
   "execution_count": 133,
   "metadata": {
    "collapsed": false,
    "deletable": true,
    "editable": true
   },
   "outputs": [
    {
     "name": "stdout",
     "output_type": "stream",
     "text": [
      "1\n",
      "2\n",
      "93326215443944152681699238856266700490715968264381621468592963895217599993229915608941463976156518286253697920827223758251185210916864000000000000000000000000\n"
     ]
    }
   ],
   "source": [
    "def fact(a):\n",
    "    if a < 0: raise ValueError(\"Less than zero\")\n",
    "    if a == 0 or a == 1: return 1\n",
    "\n",
    "    stack = linked_list()\n",
    "    while a > 1:\n",
    "        stack.push_front(a)\n",
    "        a -= 1\n",
    "\n",
    "    result = 1\n",
    "    while not stack.empty():\n",
    "        result *= stack.pop_front()\n",
    "\n",
    "    return result\n",
    "\n",
    "print (fact(1))\n",
    "print (fact(2))\n",
    "print (fact(100))"
   ]
  },
  {
   "cell_type": "markdown",
   "metadata": {
    "deletable": true,
    "editable": true
   },
   "source": [
    "The next methods defined are the <code>\\__iter\\__</code> and <code>\\__next\\__</code> methods for <code>linked_list</code>\n",
    "\n",
    "See 9.8 Iterators in [The Python Tutorial - Classes](https://docs.python.org/3/tutorial/classes.html) for an explanation of the <code>\\__iter\\__</code> and <code>\\__next\\__</code> methods"
   ]
  },
  {
   "cell_type": "code",
   "execution_count": 110,
   "metadata": {
    "collapsed": false,
    "deletable": true,
    "editable": true
   },
   "outputs": [
    {
     "data": {
      "text/plain": [
       "'\\n    def __iter__(self):\\n        self.current = self.front\\n        return self\\n\\n    def __next__(self):\\n        if self.current:\\n            tmp = self.current.value\\n            self.current = self.current.next\\n            return tmp\\n        else:\\n            raise StopIteration()\\n'"
      ]
     },
     "execution_count": 110,
     "metadata": {},
     "output_type": "execute_result"
    }
   ],
   "source": [
    "'''\n",
    "    def __iter__(self):\n",
    "        self.current = self.front\n",
    "        return self\n",
    "\n",
    "    def __next__(self):\n",
    "        if self.current:\n",
    "            tmp = self.current.value\n",
    "            self.current = self.current.next\n",
    "            return tmp\n",
    "        else:\n",
    "            raise StopIteration()\n",
    "'''"
   ]
  },
  {
   "cell_type": "markdown",
   "metadata": {
    "deletable": true,
    "editable": true
   },
   "source": [
    "The next method defined is the <code>\\__str\\__</code> method for <code>linked_list</code>.\n",
    "\n",
    "For extra credit, implement the <code>\\__repr\\__</code> method for <code>linked_list</code>\n",
    "\n",
    "See 3.3 Special method names in [The Python Language Reference - Data model](https://docs.python.org/3/reference/datamodel.html) for documentation on the <code>\\__str\\__</code> and <code>\\__repr\\__</code> special methods"
   ]
  },
  {
   "cell_type": "code",
   "execution_count": 111,
   "metadata": {
    "collapsed": false,
    "deletable": true,
    "editable": true
   },
   "outputs": [
    {
     "data": {
      "text/plain": [
       "'\\n    def __str__(self):\\n        return \",\".join(str(node) for node in self)\\n\\n    def __repr__(self):\\n        # for extra credit, implement this method\\n        # delete \\'pass\\' and add your code here \\n        pass\\n'"
      ]
     },
     "execution_count": 111,
     "metadata": {},
     "output_type": "execute_result"
    }
   ],
   "source": [
    "'''\n",
    "    def __str__(self):\n",
    "        return \",\".join(str(node) for node in self)\n",
    "\n",
    "    def __repr__(self):\n",
    "        # for extra credit, implement this method\n",
    "        # delete 'pass' and add your code here \n",
    "        pass\n",
    "'''"
   ]
  },
  {
   "cell_type": "markdown",
   "metadata": {
    "deletable": true,
    "editable": true
   },
   "source": [
    "The next method defined is the <code>push_front</code> method for the <code>linked_list</code>.\n",
    "\n",
    "Implement the <code>push_back</code>, <code>pop_front</code>, and <code>pop_back</code> methods for the <code>linked_list</code>.\n",
    "\n",
    "* <code>push_front</code> adds a node to the beginning of the list.\n",
    "* <code>push_back</code> should add a node to the end of the list.\n",
    "* <code>pop_front</code> should remove a node from the beginning of the list.\n",
    "* <code>pop_back</code> should remove a node from the end of the list."
   ]
  },
  {
   "cell_type": "markdown",
   "metadata": {
    "deletable": true,
    "editable": true
   },
   "source": [
    "## Congratulations!\n",
    "\n",
    "You implemented all of the required methods for the <code>linked_list</code> class. \n",
    "\n",
    "Your class should be able to pass all of the following unit tests."
   ]
  },
  {
   "cell_type": "code",
   "execution_count": 123,
   "metadata": {
    "collapsed": false,
    "deletable": true,
    "editable": true
   },
   "outputs": [
    {
     "data": {
      "text/plain": [
       "'\\nclass test_linked_list (unittest.TestCase):\\n    def test_none(self):\\n        self.assertTrue(linked_list().empty())\\n    def test_pop_front_empty(self):\\n        self.assertRaises(RuntimeError, lambda: linked_list().pop_front())\\n    def test_pop_back_empty(self):\\n        self.assertRaises(RuntimeError, lambda: linked_list().pop_back())\\n    def test_push_back_pop_front(self):\\n        ll = linked_list()\\n        ll.push_back(1)\\n        ll.push_back(2)\\n        ll.push_back(3)\\n        self.assertFalse(ll.empty())\\n        self.assertEquals(ll.__str__(), \\'1,2,3\\')\\n        self.assertEquals(ll.pop_front(), 1)\\n        self.assertEquals(ll.pop_front(), 2)\\n        self.assertEquals(ll.pop_front(), 3)\\n        self.assertTrue(ll.empty())\\n    def test_push_front_pop_front(self):\\n        ll = linked_list()\\n        ll.push_front(1)\\n        ll.push_front(2)\\n        ll.push_front(3)\\n        self.assertEquals(ll.pop_front(), 3)\\n        self.assertEquals(ll.pop_front(), 2)\\n        self.assertEquals(ll.pop_front(), 1)\\n        self.assertTrue(ll.empty())\\n    def test_push_front_pop_back(self):\\n        ll = linked_list()\\n        ll.push_front(1)\\n        ll.push_front(2)\\n        ll.push_front(3)\\n        self.assertFalse(ll.empty())\\n        self.assertEquals(ll.pop_back(), 1)\\n        self.assertEquals(ll.pop_back(), 2)\\n        self.assertEquals(ll.pop_back(), 3)\\n        self.assertTrue(ll.empty())\\n    def test_push_back_pop_back(self):\\n        ll = linked_list()\\n        ll.push_back(1)\\n        ll.push_back(\"foo\")\\n        ll.push_back([3,2,1])\\n        self.assertFalse(ll.empty())\\n        self.assertEquals(ll.pop_back(),[3,2,1])\\n        self.assertEquals(ll.pop_back(), \"foo\")\\n        self.assertEquals(ll.pop_back(), 1)\\n        self.assertTrue(ll.empty())\\n'"
      ]
     },
     "execution_count": 123,
     "metadata": {},
     "output_type": "execute_result"
    }
   ],
   "source": [
    "'''\n",
    "class test_linked_list (unittest.TestCase):\n",
    "    def test_none(self):\n",
    "        self.assertTrue(linked_list().empty())\n",
    "    def test_pop_front_empty(self):\n",
    "        self.assertRaises(RuntimeError, lambda: linked_list().pop_front())\n",
    "    def test_pop_back_empty(self):\n",
    "        self.assertRaises(RuntimeError, lambda: linked_list().pop_back())\n",
    "    def test_push_back_pop_front(self):\n",
    "        ll = linked_list()\n",
    "        ll.push_back(1)\n",
    "        ll.push_back(2)\n",
    "        ll.push_back(3)\n",
    "        self.assertFalse(ll.empty())\n",
    "        self.assertEquals(ll.__str__(), '1,2,3')\n",
    "        self.assertEquals(ll.pop_front(), 1)\n",
    "        self.assertEquals(ll.pop_front(), 2)\n",
    "        self.assertEquals(ll.pop_front(), 3)\n",
    "        self.assertTrue(ll.empty())\n",
    "    def test_push_front_pop_front(self):\n",
    "        ll = linked_list()\n",
    "        ll.push_front(1)\n",
    "        ll.push_front(2)\n",
    "        ll.push_front(3)\n",
    "        self.assertEquals(ll.pop_front(), 3)\n",
    "        self.assertEquals(ll.pop_front(), 2)\n",
    "        self.assertEquals(ll.pop_front(), 1)\n",
    "        self.assertTrue(ll.empty())\n",
    "    def test_push_front_pop_back(self):\n",
    "        ll = linked_list()\n",
    "        ll.push_front(1)\n",
    "        ll.push_front(2)\n",
    "        ll.push_front(3)\n",
    "        self.assertFalse(ll.empty())\n",
    "        self.assertEquals(ll.pop_back(), 1)\n",
    "        self.assertEquals(ll.pop_back(), 2)\n",
    "        self.assertEquals(ll.pop_back(), 3)\n",
    "        self.assertTrue(ll.empty())\n",
    "    def test_push_back_pop_back(self):\n",
    "        ll = linked_list()\n",
    "        ll.push_back(1)\n",
    "        ll.push_back(\"foo\")\n",
    "        ll.push_back([3,2,1])\n",
    "        self.assertFalse(ll.empty())\n",
    "        self.assertEquals(ll.pop_back(),[3,2,1])\n",
    "        self.assertEquals(ll.pop_back(), \"foo\")\n",
    "        self.assertEquals(ll.pop_back(), 1)\n",
    "        self.assertTrue(ll.empty())\n",
    "'''"
   ]
  },
  {
   "cell_type": "markdown",
   "metadata": {
    "deletable": true,
    "editable": true
   },
   "source": [
    "Below there is a class, <code>factorial</code> which uses its <code>fact</code> method and our <code>linked_list</code> class to calculate $n!$ by calling <code>factorial().fact(n)</code>\n",
    "\n",
    "There are also some unit tests for <code>factorial</code> which should all pass."
   ]
  },
  {
   "cell_type": "code",
   "execution_count": 134,
   "metadata": {
    "collapsed": false,
    "deletable": true,
    "editable": true
   },
   "outputs": [
    {
     "name": "stderr",
     "output_type": "stream",
     "text": [
      ".....\n",
      "----------------------------------------------------------------------\n",
      "Ran 5 tests in 0.005s\n",
      "\n",
      "OK\n"
     ]
    },
    {
     "data": {
      "text/plain": [
       "<unittest.main.TestProgram at 0x1059824a8>"
      ]
     },
     "execution_count": 134,
     "metadata": {},
     "output_type": "execute_result"
    }
   ],
   "source": [
    "import unittest\n",
    "\n",
    "class test_factorial (unittest.TestCase):\n",
    "    def test_less_than_zero(self):\n",
    "        self.assertRaises(ValueError, lambda: fact(-1))\n",
    "    def test_zero(self):\n",
    "        self.assertEqual(fact(0), 1)\n",
    "    def test_one(self):\n",
    "        self.assertEqual(fact(1), 1)\n",
    "    def test_two(self):\n",
    "        self.assertEqual(fact(2), 2)\n",
    "    def test_10(self):\n",
    "        self.assertEqual(fact(10), 10*9*8*7*6*5*4*3*2*1)\n",
    "\n",
    "unittest.main(argv=[''], exit=False)"
   ]
  },
  {
   "cell_type": "markdown",
   "metadata": {
    "deletable": true,
    "editable": true
   },
   "source": [
    "The last section of our code is the <code>main</code> which is where we run or test code now that we have defined everything needed above. \n",
    "\n",
    "If the first line is unfamiliar to you and you'd like to know more, see [this](http://stackoverflow.com/q/419163) question at stackoverflow for more information."
   ]
  },
  {
   "cell_type": "code",
   "execution_count": 94,
   "metadata": {
    "collapsed": false,
    "deletable": true,
    "editable": true
   },
   "outputs": [
    {
     "name": "stdout",
     "output_type": "stream",
     "text": [
      "1\n"
     ]
    },
    {
     "ename": "AttributeError",
     "evalue": "'linked_list' object has no attribute 'push_front'",
     "output_type": "error",
     "traceback": [
      "\u001b[0;31m---------------------------------------------------------------------------\u001b[0m",
      "\u001b[0;31mAttributeError\u001b[0m                            Traceback (most recent call last)",
      "\u001b[0;32m<ipython-input-94-38f91c726cb8>\u001b[0m in \u001b[0;36m<module>\u001b[0;34m()\u001b[0m\n\u001b[1;32m      1\u001b[0m \u001b[0mprint\u001b[0m \u001b[0;34m(\u001b[0m\u001b[0mfact\u001b[0m\u001b[0;34m(\u001b[0m\u001b[0;36m1\u001b[0m\u001b[0;34m)\u001b[0m\u001b[0;34m)\u001b[0m\u001b[0;34m\u001b[0m\u001b[0m\n\u001b[0;32m----> 2\u001b[0;31m \u001b[0mprint\u001b[0m \u001b[0;34m(\u001b[0m\u001b[0mfact\u001b[0m\u001b[0;34m(\u001b[0m\u001b[0;36m2\u001b[0m\u001b[0;34m)\u001b[0m\u001b[0;34m)\u001b[0m\u001b[0;34m\u001b[0m\u001b[0m\n\u001b[0m\u001b[1;32m      3\u001b[0m \u001b[0mprint\u001b[0m \u001b[0;34m(\u001b[0m\u001b[0mfact\u001b[0m\u001b[0;34m(\u001b[0m\u001b[0;36m100\u001b[0m\u001b[0;34m)\u001b[0m\u001b[0;34m)\u001b[0m\u001b[0;34m\u001b[0m\u001b[0m\n",
      "\u001b[0;32m<ipython-input-92-78cbb31ac49c>\u001b[0m in \u001b[0;36mfact\u001b[0;34m(a)\u001b[0m\n\u001b[1;32m      5\u001b[0m     \u001b[0mstack\u001b[0m \u001b[0;34m=\u001b[0m \u001b[0mlinked_list\u001b[0m\u001b[0;34m(\u001b[0m\u001b[0;34m)\u001b[0m\u001b[0;34m\u001b[0m\u001b[0m\n\u001b[1;32m      6\u001b[0m     \u001b[0;32mwhile\u001b[0m \u001b[0ma\u001b[0m \u001b[0;34m>\u001b[0m \u001b[0;36m1\u001b[0m\u001b[0;34m:\u001b[0m\u001b[0;34m\u001b[0m\u001b[0m\n\u001b[0;32m----> 7\u001b[0;31m         \u001b[0mstack\u001b[0m\u001b[0;34m.\u001b[0m\u001b[0mpush_front\u001b[0m\u001b[0;34m(\u001b[0m\u001b[0ma\u001b[0m\u001b[0;34m)\u001b[0m\u001b[0;34m\u001b[0m\u001b[0m\n\u001b[0m\u001b[1;32m      8\u001b[0m         \u001b[0ma\u001b[0m \u001b[0;34m-=\u001b[0m \u001b[0;36m1\u001b[0m\u001b[0;34m\u001b[0m\u001b[0m\n\u001b[1;32m      9\u001b[0m \u001b[0;34m\u001b[0m\u001b[0m\n",
      "\u001b[0;31mAttributeError\u001b[0m: 'linked_list' object has no attribute 'push_front'"
     ]
    }
   ],
   "source": [
    "print (fact(1))\n",
    "print (fact(2))\n",
    "print (fact(100))"
   ]
  },
  {
   "cell_type": "code",
   "execution_count": null,
   "metadata": {
    "collapsed": true
   },
   "outputs": [],
   "source": []
  }
 ],
 "metadata": {
  "kernelspec": {
   "display_name": "Python 3",
   "language": "python",
   "name": "python3"
  },
  "language_info": {
   "codemirror_mode": {
    "name": "ipython",
    "version": 3
   },
   "file_extension": ".py",
   "mimetype": "text/x-python",
   "name": "python",
   "nbconvert_exporter": "python",
   "pygments_lexer": "ipython3",
   "version": "3.6.0"
  }
 },
 "nbformat": 4,
 "nbformat_minor": 2
}
